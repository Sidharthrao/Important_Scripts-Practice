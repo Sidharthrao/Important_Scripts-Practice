{
 "cells": [
  {
   "cell_type": "markdown",
   "id": "b120d877",
   "metadata": {},
   "source": [
    "## 1. Introduction to Python"
   ]
  },
  {
   "cell_type": "markdown",
   "id": "54c344a1",
   "metadata": {},
   "source": [
    "### a. Basics"
   ]
  },
  {
   "cell_type": "markdown",
   "id": "47f3f7c5",
   "metadata": {},
   "source": [
    "#### i. Variables"
   ]
  },
  {
   "cell_type": "code",
   "execution_count": 1,
   "id": "795e24c7",
   "metadata": {},
   "outputs": [],
   "source": [
    "x = 10"
   ]
  },
  {
   "cell_type": "markdown",
   "id": "68ed9679",
   "metadata": {},
   "source": [
    "#### ii. Type of the variable"
   ]
  },
  {
   "cell_type": "code",
   "execution_count": 2,
   "id": "73c3efe4",
   "metadata": {},
   "outputs": [
    {
     "data": {
      "text/plain": [
       "int"
      ]
     },
     "execution_count": 2,
     "metadata": {},
     "output_type": "execute_result"
    }
   ],
   "source": [
    "type(x)"
   ]
  },
  {
   "cell_type": "markdown",
   "id": "09cb93ff",
   "metadata": {},
   "source": [
    "### b. Lists"
   ]
  },
  {
   "cell_type": "markdown",
   "id": "19d45b42",
   "metadata": {},
   "source": [
    "#### i. Lists"
   ]
  },
  {
   "cell_type": "markdown",
   "id": "fc40092e",
   "metadata": {},
   "source": [
    "#### ii. Sub-lists"
   ]
  },
  {
   "cell_type": "markdown",
   "id": "2a4f6d19",
   "metadata": {},
   "source": [
    "#### iii. Sub-setting lists"
   ]
  },
  {
   "cell_type": "code",
   "execution_count": 3,
   "id": "9d2067c0",
   "metadata": {},
   "outputs": [
    {
     "data": {
      "text/plain": [
       "9.5"
      ]
     },
     "execution_count": 3,
     "metadata": {},
     "output_type": "execute_result"
    }
   ],
   "source": [
    "house = [[\"hallway\", 11.25],\n",
    "         [\"kitchen\", 18.0],\n",
    "         [\"living room\", 20.0],\n",
    "         [\"bedroom\", 10.75],\n",
    "         [\"bathroom\", 9.50]]\n",
    "\n",
    "# Subset the house list\n",
    "house[4][1]"
   ]
  },
  {
   "cell_type": "markdown",
   "id": "661c919d",
   "metadata": {},
   "source": [
    "#### iv. Slicing \n",
    " \n",
    " - my_list[start:end]\n",
    "\n"
   ]
  },
  {
   "cell_type": "code",
   "execution_count": 4,
   "id": "29a30270",
   "metadata": {},
   "outputs": [
    {
     "name": "stdout",
     "output_type": "stream",
     "text": [
      "['hallway', 11.25, 'kitchen', 18.0, 'living room', 20.0]\n",
      "['bedroom', 10.75, 'bathroom', 9.5]\n"
     ]
    }
   ],
   "source": [
    "# Create the areas list\n",
    "areas = [\"hallway\", 11.25, \"kitchen\", 18.0, \"living room\", 20.0, \"bedroom\", 10.75, \"bathroom\", 9.50]\n",
    "\n",
    "# Use slicing to create downstairs\n",
    "downstairs = areas[:6]\n",
    "\n",
    "# Use slicing to create upstairs\n",
    "upstairs = areas[-4:]\n",
    "\n",
    "# Print out downstairs and upstairs\n",
    "print(downstairs)\n",
    "print(upstairs)"
   ]
  },
  {
   "cell_type": "markdown",
   "id": "94cf0b21",
   "metadata": {},
   "source": [
    "#### v. Replacing elements or adding elements or deleting elements"
   ]
  },
  {
   "cell_type": "code",
   "execution_count": null,
   "id": "90780a5b",
   "metadata": {},
   "outputs": [],
   "source": [
    "areas[9] = 10.5"
   ]
  },
  {
   "cell_type": "code",
   "execution_count": null,
   "id": "5c9f416b",
   "metadata": {},
   "outputs": [],
   "source": [
    "areas_1 = areas + [\"poolhouse\", 24.5]"
   ]
  },
  {
   "cell_type": "code",
   "execution_count": null,
   "id": "dbe23aaa",
   "metadata": {},
   "outputs": [],
   "source": [
    "del areas[10:12]"
   ]
  },
  {
   "cell_type": "markdown",
   "id": "65719983",
   "metadata": {},
   "source": [
    "### c. Functions"
   ]
  },
  {
   "cell_type": "markdown",
   "id": "03a90b93",
   "metadata": {},
   "source": [
    "#### i. Sorting a list"
   ]
  },
  {
   "cell_type": "code",
   "execution_count": 6,
   "id": "f585c756",
   "metadata": {},
   "outputs": [
    {
     "name": "stdout",
     "output_type": "stream",
     "text": [
      "[20.0, 18.0, 11.25, 10.75, 9.5]\n"
     ]
    }
   ],
   "source": [
    "# Create lists first and second\n",
    "first = [11.25, 18.0, 20.0]\n",
    "second = [10.75, 9.50]\n",
    "\n",
    "# Paste together first and second: full\n",
    "full = first + second\n",
    "\n",
    "# Sort full in descending order: full_sorted\n",
    "full_sorted = sorted(full, reverse = True)\n",
    "\n",
    "# Print out full_sorted\n",
    "print(full_sorted)"
   ]
  },
  {
   "cell_type": "markdown",
   "id": "e8bfdbc5",
   "metadata": {},
   "source": [
    "#### ii. String Methods"
   ]
  },
  {
   "cell_type": "code",
   "execution_count": null,
   "id": "bbb80080",
   "metadata": {},
   "outputs": [],
   "source": [
    "# string to experiment with: place\n",
    "place = \"poolhouse\"\n",
    "\n",
    "# Use upper() on place\n",
    "place_up = place.upper()\n",
    "\n",
    "# Print out the number of o's in place\n",
    "print(place.count(\"o\"))"
   ]
  },
  {
   "cell_type": "markdown",
   "id": "8807d339",
   "metadata": {},
   "source": [
    "### d. Numpy"
   ]
  },
  {
   "cell_type": "markdown",
   "id": "d77ef902",
   "metadata": {},
   "source": [
    "#### i. Creating 2D numpy array \n",
    " - Helps perform calculations element by element"
   ]
  },
  {
   "cell_type": "code",
   "execution_count": null,
   "id": "ebe0628a",
   "metadata": {},
   "outputs": [],
   "source": [
    "# Import numpy\n",
    "import numpy as np\n",
    "\n",
    "# Create a numpy array from height_in: np_height_in\n",
    "np_height_in = np.array(height_in)"
   ]
  },
  {
   "cell_type": "markdown",
   "id": "2e73ad08",
   "metadata": {},
   "source": [
    "#### ii. Basic statistics"
   ]
  },
  {
   "cell_type": "code",
   "execution_count": null,
   "id": "645ba9cb",
   "metadata": {},
   "outputs": [],
   "source": [
    "import numpy as np\n",
    "print(np_baseball)\n",
    "# Create np_height_in from np_baseball\n",
    "np_height_in = np.array(np_baseball[:,0])\n",
    "\n",
    "# Print out the mean of np_height_in\n",
    "print(np.mean(np_height_in))\n",
    "\n",
    "# Print out the median of np_height_in\n",
    "print(np.median(np_height_in))"
   ]
  },
  {
   "cell_type": "code",
   "execution_count": null,
   "id": "ad672438",
   "metadata": {},
   "outputs": [],
   "source": []
  },
  {
   "cell_type": "code",
   "execution_count": null,
   "id": "9609961e",
   "metadata": {},
   "outputs": [],
   "source": []
  },
  {
   "cell_type": "code",
   "execution_count": null,
   "id": "0b3698a4",
   "metadata": {},
   "outputs": [],
   "source": []
  },
  {
   "cell_type": "markdown",
   "id": "5d64ab87",
   "metadata": {},
   "source": [
    "## 2. Intermediate Python"
   ]
  },
  {
   "cell_type": "markdown",
   "id": "e849df0b",
   "metadata": {},
   "source": [
    "### a. Matplotlib"
   ]
  },
  {
   "cell_type": "markdown",
   "id": "98b03ed3",
   "metadata": {},
   "source": [
    "#### i. line plot"
   ]
  },
  {
   "cell_type": "code",
   "execution_count": null,
   "id": "3f1a2624",
   "metadata": {},
   "outputs": [],
   "source": [
    "# Print the last item from year and pop\n",
    "print(year[-1])\n",
    "print(pop[-1])\n",
    "\n",
    "\n",
    "# Import matplotlib.pyplot as plt\n",
    "import matplotlib.pyplot as plt\n",
    "\n",
    "# Make a line plot: year on the x-axis, pop on the y-axis\n",
    "plt.plot(year,pop)\n",
    "\n",
    "# Display the plot with plt.show()\n",
    "plt.show()"
   ]
  },
  {
   "cell_type": "markdown",
   "id": "bed32e9a",
   "metadata": {},
   "source": [
    "<img src=\"/Users/sidharthrao/Documents/Documents - Sidharth’s MacBook Pro/GitHub/Important_Scripts-Practice/DataCamp - Practice/Images/linePLot.svg\" width=\"500\" height=\"300\" alt=\"Description\">"
   ]
  },
  {
   "cell_type": "markdown",
   "id": "aa7abe9c",
   "metadata": {},
   "source": [
    "#### ii. Scatter PLot"
   ]
  },
  {
   "cell_type": "code",
   "execution_count": null,
   "id": "f75ebb19",
   "metadata": {},
   "outputs": [],
   "source": [
    "# Build Scatter plot\n",
    "plt.scatter(pop, life_exp)\n",
    "\n",
    "plt.show()"
   ]
  },
  {
   "cell_type": "markdown",
   "id": "529ec375",
   "metadata": {},
   "source": [
    "<img src=\"/Users/sidharthrao/Documents/Documents - Sidharth’s MacBook Pro/GitHub/Important_Scripts-Practice/DataCamp - Practice/Images/Scatter.svg\" width=\"500\" height=\"300\" alt=\"Description\">"
   ]
  },
  {
   "cell_type": "markdown",
   "id": "dfb2f754",
   "metadata": {},
   "source": [
    "#### iii. Histogram"
   ]
  },
  {
   "cell_type": "code",
   "execution_count": null,
   "id": "376662c5",
   "metadata": {},
   "outputs": [],
   "source": [
    "# Create histogram of life_exp data\n",
    "plt.hist(life_exp)\n",
    "\n",
    "# Display histogram\n",
    "plt.show()"
   ]
  },
  {
   "cell_type": "markdown",
   "id": "0f74f97c",
   "metadata": {},
   "source": [
    "<img src=\"/Users/sidharthrao/Documents/Documents - Sidharth’s MacBook Pro/GitHub/Important_Scripts-Practice/DataCamp - Practice/Images/Hist.svg\" width=\"500\" height=\"300\" alt=\"Description\">"
   ]
  },
  {
   "cell_type": "code",
   "execution_count": null,
   "id": "c31a6f89",
   "metadata": {},
   "outputs": [],
   "source": [
    "# Histogram of life_exp, 15 bins\n",
    "plt.hist(life_exp, bins = 15)\n",
    "\n",
    "# Show and clear plot\n",
    "plt.show()\n",
    "plt.clf()\n",
    "\n",
    "# Histogram of life_exp1950, 15 bins\n",
    "plt.hist(life_exp1950, bins = 15)\n",
    "\n",
    "# Show and clear plot again\n",
    "plt.show()\n",
    "plt.clf()"
   ]
  },
  {
   "cell_type": "markdown",
   "id": "08c62eec",
   "metadata": {},
   "source": [
    "<img src=\"/Users/sidharthrao/Documents/Documents - Sidharth’s MacBook Pro/GitHub/Important_Scripts-Practice/DataCamp - Practice/Images/HistBins.svg\" width=\"500\" height=\"300\" alt=\"Description\">"
   ]
  },
  {
   "cell_type": "markdown",
   "id": "9145c181",
   "metadata": {},
   "source": [
    "#### iv. Labelling convention"
   ]
  },
  {
   "cell_type": "code",
   "execution_count": null,
   "id": "9830d63c",
   "metadata": {},
   "outputs": [],
   "source": [
    "# Scatter plot\n",
    "plt.scatter(x = gdp_cap, y = life_exp, s = np.array(pop) * 2, c = col, alpha = 0.8)\n",
    "\n",
    "# Previous customizations\n",
    "plt.xscale('log') \n",
    "plt.xlabel('GDP per Capita [in USD]')\n",
    "plt.ylabel('Life Expectancy [in years]')\n",
    "plt.title('World Development in 2007')\n",
    "plt.xticks([1000,10000,100000], ['1k','10k','100k'])\n",
    "\n",
    "# Additional customizations\n",
    "plt.text(1550, 71, 'India')\n",
    "plt.text(5700, 80, 'China')\n",
    "\n",
    "# Add grid() call\n",
    "plt.grid(True)\n",
    "\n",
    "# Show the plot\n",
    "plt.show()"
   ]
  },
  {
   "cell_type": "markdown",
   "id": "54f0908b",
   "metadata": {},
   "source": [
    "### b. Dictionaries & Pandas"
   ]
  },
  {
   "cell_type": "code",
   "execution_count": null,
   "id": "0dde2bfd",
   "metadata": {},
   "outputs": [],
   "source": []
  },
  {
   "cell_type": "code",
   "execution_count": null,
   "id": "5d9695cc",
   "metadata": {},
   "outputs": [],
   "source": []
  },
  {
   "cell_type": "code",
   "execution_count": null,
   "id": "d15551cc",
   "metadata": {},
   "outputs": [],
   "source": []
  },
  {
   "cell_type": "code",
   "execution_count": null,
   "id": "c44723ab",
   "metadata": {},
   "outputs": [],
   "source": []
  },
  {
   "cell_type": "code",
   "execution_count": null,
   "id": "a2eadc13",
   "metadata": {},
   "outputs": [],
   "source": []
  },
  {
   "cell_type": "code",
   "execution_count": null,
   "id": "d3deac1d",
   "metadata": {},
   "outputs": [],
   "source": []
  },
  {
   "cell_type": "code",
   "execution_count": null,
   "id": "73f25537",
   "metadata": {},
   "outputs": [],
   "source": []
  },
  {
   "cell_type": "code",
   "execution_count": null,
   "id": "5ab00aaa",
   "metadata": {},
   "outputs": [],
   "source": []
  },
  {
   "cell_type": "code",
   "execution_count": null,
   "id": "3ee58107",
   "metadata": {},
   "outputs": [],
   "source": []
  },
  {
   "cell_type": "code",
   "execution_count": null,
   "id": "69bca456",
   "metadata": {},
   "outputs": [],
   "source": []
  },
  {
   "cell_type": "code",
   "execution_count": null,
   "id": "db91920a",
   "metadata": {},
   "outputs": [],
   "source": []
  },
  {
   "cell_type": "code",
   "execution_count": null,
   "id": "f38eef7c",
   "metadata": {},
   "outputs": [],
   "source": []
  },
  {
   "cell_type": "code",
   "execution_count": null,
   "id": "95ebc827",
   "metadata": {},
   "outputs": [],
   "source": []
  },
  {
   "cell_type": "markdown",
   "id": "708aa1dd",
   "metadata": {},
   "source": [
    "## 3. Data Manipulation with Pandas"
   ]
  },
  {
   "cell_type": "code",
   "execution_count": null,
   "id": "2a68bd32",
   "metadata": {},
   "outputs": [],
   "source": []
  },
  {
   "cell_type": "markdown",
   "id": "2b31dc77",
   "metadata": {},
   "source": [
    "## Chapter 4 - Joining"
   ]
  },
  {
   "cell_type": "markdown",
   "id": "7d0ea610",
   "metadata": {},
   "source": [
    "#### d. Merging Ordered and Time-Series Data"
   ]
  },
  {
   "cell_type": "code",
   "execution_count": null,
   "id": "0ec442ae",
   "metadata": {},
   "outputs": [],
   "source": []
  },
  {
   "cell_type": "code",
   "execution_count": null,
   "id": "33b709f6",
   "metadata": {},
   "outputs": [],
   "source": []
  },
  {
   "cell_type": "code",
   "execution_count": null,
   "id": "4d5df64c",
   "metadata": {},
   "outputs": [],
   "source": []
  },
  {
   "cell_type": "code",
   "execution_count": null,
   "id": "5901b0f9",
   "metadata": {},
   "outputs": [],
   "source": []
  },
  {
   "cell_type": "code",
   "execution_count": null,
   "id": "73175ba0",
   "metadata": {},
   "outputs": [],
   "source": []
  },
  {
   "cell_type": "code",
   "execution_count": null,
   "id": "bbc17ce5",
   "metadata": {},
   "outputs": [],
   "source": []
  },
  {
   "cell_type": "code",
   "execution_count": null,
   "id": "30ebd651",
   "metadata": {},
   "outputs": [],
   "source": []
  }
 ],
 "metadata": {
  "kernelspec": {
   "display_name": "Python 3",
   "language": "python",
   "name": "python3"
  },
  "language_info": {
   "codemirror_mode": {
    "name": "ipython",
    "version": 3
   },
   "file_extension": ".py",
   "mimetype": "text/x-python",
   "name": "python",
   "nbconvert_exporter": "python",
   "pygments_lexer": "ipython3",
   "version": "3.11.12"
  }
 },
 "nbformat": 4,
 "nbformat_minor": 5
}
