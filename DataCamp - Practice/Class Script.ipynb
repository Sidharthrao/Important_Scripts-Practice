{
 "cells": [
  {
   "cell_type": "markdown",
   "id": "b120d877",
   "metadata": {},
   "source": [
    "## 1. Introduction to Python"
   ]
  },
  {
   "cell_type": "markdown",
   "id": "54c344a1",
   "metadata": {},
   "source": [
    "### a. Basics"
   ]
  },
  {
   "cell_type": "markdown",
   "id": "47f3f7c5",
   "metadata": {},
   "source": [
    "#### i. Variables"
   ]
  },
  {
   "cell_type": "code",
   "execution_count": null,
   "id": "795e24c7",
   "metadata": {},
   "outputs": [],
   "source": [
    "x = 10"
   ]
  },
  {
   "cell_type": "markdown",
   "id": "68ed9679",
   "metadata": {},
   "source": [
    "#### ii. Type of the variable"
   ]
  },
  {
   "cell_type": "code",
   "execution_count": null,
   "id": "73c3efe4",
   "metadata": {},
   "outputs": [],
   "source": [
    "type(x)"
   ]
  },
  {
   "cell_type": "markdown",
   "id": "09cb93ff",
   "metadata": {},
   "source": [
    "### b. Lists"
   ]
  },
  {
   "cell_type": "markdown",
   "id": "19d45b42",
   "metadata": {},
   "source": [
    "#### i. Lists"
   ]
  },
  {
   "cell_type": "markdown",
   "id": "fc40092e",
   "metadata": {},
   "source": [
    "#### ii. Sub-lists"
   ]
  },
  {
   "cell_type": "markdown",
   "id": "2a4f6d19",
   "metadata": {},
   "source": [
    "#### iii. Sub-setting lists"
   ]
  },
  {
   "cell_type": "code",
   "execution_count": null,
   "id": "9d2067c0",
   "metadata": {},
   "outputs": [],
   "source": [
    "house = [[\"hallway\", 11.25],\n",
    "         [\"kitchen\", 18.0],\n",
    "         [\"living room\", 20.0],\n",
    "         [\"bedroom\", 10.75],\n",
    "         [\"bathroom\", 9.50]]\n",
    "\n",
    "# Subset the house list\n",
    "house[4][1]"
   ]
  },
  {
   "cell_type": "markdown",
   "id": "661c919d",
   "metadata": {},
   "source": [
    "#### iv. Slicing \n",
    " \n",
    " - my_list[start:end]\n",
    "\n"
   ]
  },
  {
   "cell_type": "code",
   "execution_count": null,
   "id": "29a30270",
   "metadata": {},
   "outputs": [],
   "source": [
    "# Create the areas list\n",
    "areas = [\"hallway\", 11.25, \"kitchen\", 18.0, \"living room\", 20.0, \"bedroom\", 10.75, \"bathroom\", 9.50]\n",
    "\n",
    "# Use slicing to create downstairs\n",
    "downstairs = areas[:6]\n",
    "\n",
    "# Use slicing to create upstairs\n",
    "upstairs = areas[-4:]\n",
    "\n",
    "# Print out downstairs and upstairs\n",
    "print(downstairs)\n",
    "print(upstairs)"
   ]
  },
  {
   "cell_type": "markdown",
   "id": "94cf0b21",
   "metadata": {},
   "source": [
    "#### v. Replacing elements or adding elements or deleting elements"
   ]
  },
  {
   "cell_type": "code",
   "execution_count": null,
   "id": "90780a5b",
   "metadata": {},
   "outputs": [],
   "source": [
    "areas[9] = 10.5"
   ]
  },
  {
   "cell_type": "code",
   "execution_count": null,
   "id": "5c9f416b",
   "metadata": {},
   "outputs": [],
   "source": [
    "areas_1 = areas + [\"poolhouse\", 24.5]"
   ]
  },
  {
   "cell_type": "code",
   "execution_count": null,
   "id": "dbe23aaa",
   "metadata": {},
   "outputs": [],
   "source": [
    "del areas[10:12]"
   ]
  },
  {
   "cell_type": "markdown",
   "id": "65719983",
   "metadata": {},
   "source": [
    "### c. Functions"
   ]
  },
  {
   "cell_type": "markdown",
   "id": "03a90b93",
   "metadata": {},
   "source": [
    "#### i. Sorting a list"
   ]
  },
  {
   "cell_type": "code",
   "execution_count": null,
   "id": "f585c756",
   "metadata": {},
   "outputs": [],
   "source": [
    "# Create lists first and second\n",
    "first = [11.25, 18.0, 20.0]\n",
    "second = [10.75, 9.50]\n",
    "\n",
    "# Paste together first and second: full\n",
    "full = first + second\n",
    "\n",
    "# Sort full in descending order: full_sorted\n",
    "full_sorted = sorted(full, reverse = True)\n",
    "\n",
    "# Print out full_sorted\n",
    "print(full_sorted)"
   ]
  },
  {
   "cell_type": "markdown",
   "id": "e8bfdbc5",
   "metadata": {},
   "source": [
    "#### ii. String Methods"
   ]
  },
  {
   "cell_type": "code",
   "execution_count": null,
   "id": "bbb80080",
   "metadata": {},
   "outputs": [],
   "source": [
    "# string to experiment with: place\n",
    "place = \"poolhouse\"\n",
    "\n",
    "# Use upper() on place\n",
    "place_up = place.upper()\n",
    "\n",
    "# Print out the number of o's in place\n",
    "print(place.count(\"o\"))"
   ]
  },
  {
   "cell_type": "markdown",
   "id": "8807d339",
   "metadata": {},
   "source": [
    "### d. Numpy"
   ]
  },
  {
   "cell_type": "markdown",
   "id": "d77ef902",
   "metadata": {},
   "source": [
    "#### i. Creating 2D numpy array \n",
    " - Helps perform calculations element by element"
   ]
  },
  {
   "cell_type": "code",
   "execution_count": null,
   "id": "ebe0628a",
   "metadata": {},
   "outputs": [],
   "source": [
    "# Import numpy\n",
    "import numpy as np\n",
    "\n",
    "# Create a numpy array from height_in: np_height_in\n",
    "np_height_in = np.array(height_in)"
   ]
  },
  {
   "cell_type": "markdown",
   "id": "2e73ad08",
   "metadata": {},
   "source": [
    "#### ii. Basic statistics"
   ]
  },
  {
   "cell_type": "code",
   "execution_count": null,
   "id": "645ba9cb",
   "metadata": {},
   "outputs": [],
   "source": [
    "import numpy as np\n",
    "print(np_baseball)\n",
    "# Create np_height_in from np_baseball\n",
    "np_height_in = np.array(np_baseball[:,0])\n",
    "\n",
    "# Print out the mean of np_height_in\n",
    "print(np.mean(np_height_in))\n",
    "\n",
    "# Print out the median of np_height_in\n",
    "print(np.median(np_height_in))"
   ]
  },
  {
   "cell_type": "code",
   "execution_count": null,
   "id": "ad672438",
   "metadata": {},
   "outputs": [],
   "source": []
  },
  {
   "cell_type": "code",
   "execution_count": null,
   "id": "9609961e",
   "metadata": {},
   "outputs": [],
   "source": []
  },
  {
   "cell_type": "code",
   "execution_count": null,
   "id": "0b3698a4",
   "metadata": {},
   "outputs": [],
   "source": []
  },
  {
   "cell_type": "markdown",
   "id": "5d64ab87",
   "metadata": {},
   "source": [
    "## 2. Intermediate Python"
   ]
  },
  {
   "cell_type": "markdown",
   "id": "e849df0b",
   "metadata": {},
   "source": [
    "### a. Matplotlib"
   ]
  },
  {
   "cell_type": "markdown",
   "id": "98b03ed3",
   "metadata": {},
   "source": [
    "#### i. line plot"
   ]
  },
  {
   "cell_type": "code",
   "execution_count": null,
   "id": "3f1a2624",
   "metadata": {},
   "outputs": [],
   "source": [
    "# Print the last item from year and pop\n",
    "print(year[-1])\n",
    "print(pop[-1])\n",
    "\n",
    "\n",
    "# Import matplotlib.pyplot as plt\n",
    "import matplotlib.pyplot as plt\n",
    "\n",
    "# Make a line plot: year on the x-axis, pop on the y-axis\n",
    "plt.plot(year,pop)\n",
    "\n",
    "# Display the plot with plt.show()\n",
    "plt.show()"
   ]
  },
  {
   "cell_type": "markdown",
   "id": "bed32e9a",
   "metadata": {},
   "source": [
    "<img src=\"/Users/sidharthrao/Documents/Documents - Sidharth’s MacBook Pro/GitHub/Important_Scripts-Practice/DataCamp - Practice/Images/linePLot.svg\" width=\"500\" height=\"300\" alt=\"Description\">"
   ]
  },
  {
   "cell_type": "markdown",
   "id": "aa7abe9c",
   "metadata": {},
   "source": [
    "#### ii. Scatter PLot"
   ]
  },
  {
   "cell_type": "code",
   "execution_count": null,
   "id": "f75ebb19",
   "metadata": {},
   "outputs": [],
   "source": [
    "# Build Scatter plot\n",
    "plt.scatter(pop, life_exp)\n",
    "\n",
    "plt.show()"
   ]
  },
  {
   "cell_type": "markdown",
   "id": "529ec375",
   "metadata": {},
   "source": [
    "<img src=\"/Users/sidharthrao/Documents/Documents - Sidharth’s MacBook Pro/GitHub/Important_Scripts-Practice/DataCamp - Practice/Images/Scatter.svg\" width=\"500\" height=\"300\" alt=\"Description\">"
   ]
  },
  {
   "cell_type": "markdown",
   "id": "dfb2f754",
   "metadata": {},
   "source": [
    "#### iii. Histogram"
   ]
  },
  {
   "cell_type": "code",
   "execution_count": null,
   "id": "376662c5",
   "metadata": {},
   "outputs": [],
   "source": [
    "# Create histogram of life_exp data\n",
    "plt.hist(life_exp)\n",
    "\n",
    "# Display histogram\n",
    "plt.show()"
   ]
  },
  {
   "cell_type": "markdown",
   "id": "0f74f97c",
   "metadata": {},
   "source": [
    "<img src=\"/Users/sidharthrao/Documents/Documents - Sidharth’s MacBook Pro/GitHub/Important_Scripts-Practice/DataCamp - Practice/Images/Hist.svg\" width=\"500\" height=\"300\" alt=\"Description\">"
   ]
  },
  {
   "cell_type": "code",
   "execution_count": null,
   "id": "c31a6f89",
   "metadata": {},
   "outputs": [],
   "source": [
    "# Histogram of life_exp, 15 bins\n",
    "plt.hist(life_exp, bins = 15)\n",
    "\n",
    "# Show and clear plot\n",
    "plt.show()\n",
    "plt.clf()\n",
    "\n",
    "# Histogram of life_exp1950, 15 bins\n",
    "plt.hist(life_exp1950, bins = 15)\n",
    "\n",
    "# Show and clear plot again\n",
    "plt.show()\n",
    "plt.clf()"
   ]
  },
  {
   "cell_type": "markdown",
   "id": "08c62eec",
   "metadata": {},
   "source": [
    "<img src=\"/Users/sidharthrao/Documents/Documents - Sidharth’s MacBook Pro/GitHub/Important_Scripts-Practice/DataCamp - Practice/Images/HistBins.svg\" width=\"500\" height=\"300\" alt=\"Description\">"
   ]
  },
  {
   "cell_type": "markdown",
   "id": "9145c181",
   "metadata": {},
   "source": [
    "#### iv. Labelling convention"
   ]
  },
  {
   "cell_type": "code",
   "execution_count": null,
   "id": "9830d63c",
   "metadata": {},
   "outputs": [],
   "source": [
    "# Scatter plot\n",
    "plt.scatter(x = gdp_cap, y = life_exp, s = np.array(pop) * 2, c = col, alpha = 0.8)\n",
    "\n",
    "# Previous customizations\n",
    "plt.xscale('log') \n",
    "plt.xlabel('GDP per Capita [in USD]')\n",
    "plt.ylabel('Life Expectancy [in years]')\n",
    "plt.title('World Development in 2007')\n",
    "plt.xticks([1000,10000,100000], ['1k','10k','100k'])\n",
    "\n",
    "# Additional customizations\n",
    "plt.text(1550, 71, 'India')\n",
    "plt.text(5700, 80, 'China')\n",
    "\n",
    "# Add grid() call\n",
    "plt.grid(True)\n",
    "\n",
    "# Show the plot\n",
    "plt.show()"
   ]
  },
  {
   "cell_type": "markdown",
   "id": "54f0908b",
   "metadata": {},
   "source": [
    "### b. Dictionaries & Pandas"
   ]
  },
  {
   "cell_type": "markdown",
   "id": "6875a289",
   "metadata": {},
   "source": [
    "``` \n",
    "my_dict = {\n",
    "   \"key1\":\"value1\",\n",
    "   \"key2\":\"value2\",\n",
    "}\n",
    "```"
   ]
  },
  {
   "cell_type": "markdown",
   "id": "a4c5868d",
   "metadata": {},
   "source": [
    "#### i. Accessing Keys"
   ]
  },
  {
   "cell_type": "code",
   "execution_count": null,
   "id": "ad32b897",
   "metadata": {},
   "outputs": [],
   "source": [
    "# Definition of dictionary\n",
    "europe = {'spain':'madrid', 'france':'paris', 'germany':'berlin', 'norway':'oslo' }\n",
    "\n",
    "# Print out the keys in europe\n",
    "print(europe.keys())"
   ]
  },
  {
   "cell_type": "markdown",
   "id": "a43a396b",
   "metadata": {},
   "source": [
    "#### ii. Deleting key and value"
   ]
  },
  {
   "cell_type": "code",
   "execution_count": null,
   "id": "0dde2bfd",
   "metadata": {},
   "outputs": [],
   "source": [
    "del(europe[\"spain\"])"
   ]
  },
  {
   "cell_type": "markdown",
   "id": "3c31f151",
   "metadata": {},
   "source": [
    "#### iii. Dict to DataFrame"
   ]
  },
  {
   "cell_type": "code",
   "execution_count": null,
   "id": "5d9695cc",
   "metadata": {},
   "outputs": [],
   "source": [
    "# Pre-defined lists\n",
    "names = ['United States', 'Australia', 'Japan', 'India', 'Russia', 'Morocco', 'Egypt']\n",
    "dr =  [True, False, False, False, True, True, True]\n",
    "cpc = [809, 731, 588, 18, 200, 70, 45]\n",
    "\n",
    "# Import pandas as pd\n",
    "import pandas as pd\n",
    "\n",
    "# Create dictionary my_dict with three key:value pairs: my_dict\n",
    "my_dict = {'country':names,'drives_right':dr,'cars_per_cap':cpc}\n",
    "\n",
    "# Build a DataFrame cars from my_dict: cars\n",
    "cars = pd.DataFrame(my_dict)\n",
    "\n",
    "# Print cars\n",
    "print(cars)\n",
    "\n",
    "# Definition of row_labels\n",
    "row_labels = ['US', 'AUS', 'JPN', 'IN', 'RU', 'MOR']\n",
    "\n",
    "# Specify row labels of cars\n",
    "cars.index = row_labels"
   ]
  },
  {
   "cell_type": "markdown",
   "id": "3f83f532",
   "metadata": {},
   "source": [
    "#### iv. Reading files"
   ]
  },
  {
   "cell_type": "code",
   "execution_count": null,
   "id": "d15551cc",
   "metadata": {},
   "outputs": [],
   "source": [
    "# Fix import by including index_col\n",
    "cars = pd.read_csv('cars.csv', index_col = 0)"
   ]
  },
  {
   "cell_type": "markdown",
   "id": "1ab4ed82",
   "metadata": {},
   "source": [
    "#### v. Accessing portion of data as Series or Dataframe"
   ]
  },
  {
   "cell_type": "code",
   "execution_count": null,
   "id": "c44723ab",
   "metadata": {},
   "outputs": [],
   "source": [
    "# Print out country column as Pandas Series\n",
    "print(cars[\"country\"])\n",
    "\n",
    "# Print out country column as Pandas DataFrame\n",
    "print(cars[[\"country\"]])\n",
    "\n",
    "# Print out DataFrame with country and drives_right columns\n",
    "print(cars[[\"country\",\"drives_right\"]])\n",
    "\n",
    "#Or \n",
    "# Print out first 3 observations\n",
    "print(cars[0:3])"
   ]
  },
  {
   "cell_type": "markdown",
   "id": "ef8b755b",
   "metadata": {},
   "source": [
    "#### vi. Accessing portion of data with .loc or .iloc"
   ]
  },
  {
   "cell_type": "markdown",
   "id": "e7e2c21f",
   "metadata": {},
   "source": [
    "```\n",
    "Starts with Rows and column \n",
    "\n",
    "cars.loc[['IN', 'RU'], 'cars_per_cap']\n",
    "cars.iloc[[3, 4], 0]\n",
    "```"
   ]
  },
  {
   "cell_type": "code",
   "execution_count": null,
   "id": "a2eadc13",
   "metadata": {},
   "outputs": [],
   "source": [
    "# Print out observations for Australia and Egypt \n",
    "print(cars.loc[[\"AUS\",\"EG\"]]) # AUS and EG are index\n",
    "\n"
   ]
  },
  {
   "cell_type": "markdown",
   "id": "136963a3",
   "metadata": {},
   "source": [
    "#### vii. Access all rows but only with selected column"
   ]
  },
  {
   "cell_type": "markdown",
   "id": "95af0f21",
   "metadata": {},
   "source": [
    "```\n",
    ": -> to select all the rows\n",
    "```"
   ]
  },
  {
   "cell_type": "code",
   "execution_count": null,
   "id": "d3deac1d",
   "metadata": {},
   "outputs": [],
   "source": [
    "cars.loc[:, ['country','drives_right']]\n",
    "cars.iloc[:, [1, 2]]"
   ]
  },
  {
   "cell_type": "markdown",
   "id": "d1fd94b1",
   "metadata": {},
   "source": [
    "### c. Logic, Control flow and Filtering"
   ]
  },
  {
   "cell_type": "markdown",
   "id": "d18ad986",
   "metadata": {},
   "source": [
    "#### i. Comparison operators"
   ]
  },
  {
   "cell_type": "markdown",
   "id": "59d5a846",
   "metadata": {},
   "source": [
    "```\n",
    "== \n",
    "!=\n",
    "<\n",
    ">\n",
    "=<\n",
    ">=\n",
    "\n",
    "```"
   ]
  },
  {
   "cell_type": "markdown",
   "id": "e6a32732",
   "metadata": {},
   "source": [
    "#### ii. Boolean Operator"
   ]
  },
  {
   "cell_type": "markdown",
   "id": "8e536431",
   "metadata": {},
   "source": [
    "```\n",
    "True -> 0\n",
    "False -> 1\n",
    "```"
   ]
  },
  {
   "cell_type": "markdown",
   "id": "d8fa8e41",
   "metadata": {},
   "source": [
    "#### iv. And, Or operator through numpy"
   ]
  },
  {
   "cell_type": "code",
   "execution_count": null,
   "id": "73f25537",
   "metadata": {},
   "outputs": [],
   "source": [
    "my_house = np.array([18.0, 20.0, 10.75, 9.50])\n",
    "your_house = np.array([14.0, 24.0, 14.25, 9.0])\n",
    "\n",
    "# my_house greater than 18.5 or smaller than 10\n",
    "print(np.logical_or(my_house > 18.5, my_house < 10))\n",
    "\n",
    "# Both my_house and your_house smaller than 11\n",
    "print(np.logical_and(my_house < 11, your_house < 11))"
   ]
  },
  {
   "cell_type": "code",
   "execution_count": null,
   "id": "f020f16c",
   "metadata": {},
   "outputs": [],
   "source": [
    "cars = pd.read_csv('cars.csv', index_col = 0)\n",
    "\n",
    "# Create medium: observations with cars_per_cap between 100 and 500\n",
    "cpc = cars['cars_per_cap']\n",
    "between = np.logical_and(cpc > 100, cpc < 500)\n",
    "medium = cars[between]\n"
   ]
  },
  {
   "cell_type": "markdown",
   "id": "2d872de6",
   "metadata": {},
   "source": [
    "#### v. if, elif, else"
   ]
  },
  {
   "cell_type": "code",
   "execution_count": null,
   "id": "5ab00aaa",
   "metadata": {},
   "outputs": [],
   "source": [
    "area = 10.0\n",
    "if(area < 9) :\n",
    "    print(\"small\")\n",
    "elif(area < 12) :\n",
    "    print(\"medium\")\n",
    "else :\n",
    "    print(\"large\")"
   ]
  },
  {
   "cell_type": "markdown",
   "id": "818e1e86",
   "metadata": {},
   "source": [
    "#### vi. While Loop"
   ]
  },
  {
   "cell_type": "markdown",
   "id": "55f7943d",
   "metadata": {},
   "source": [
    "The while loop is like a repeated if statement. The code is executed over and over again, as long as the condition is ```True```."
   ]
  },
  {
   "cell_type": "markdown",
   "id": "16161540",
   "metadata": {},
   "source": [
    "``` \n",
    "while condition :\n",
    "    expression\n",
    "```"
   ]
  },
  {
   "cell_type": "code",
   "execution_count": null,
   "id": "3ee58107",
   "metadata": {},
   "outputs": [],
   "source": [
    "# Initialize offset\n",
    "offset = -6\n",
    "\n",
    "# Code the while loop\n",
    "while offset != 0 :\n",
    "    print(\"correcting...\")\n",
    "    if offset > 0 :\n",
    "      offset = offset - 1\n",
    "    else : \n",
    "      offset = offset + 1    \n",
    "    print(offset)"
   ]
  },
  {
   "cell_type": "markdown",
   "id": "83300e4d",
   "metadata": {},
   "source": [
    "#### vii. Loop"
   ]
  },
  {
   "cell_type": "code",
   "execution_count": null,
   "id": "69bca456",
   "metadata": {},
   "outputs": [],
   "source": [
    "# areas list\n",
    "areas = [11.25, 18.0, 20.0, 10.75, 9.50]\n",
    "\n",
    "# Code the for loop\n",
    "for i in areas:\n",
    "    print(i)"
   ]
  },
  {
   "cell_type": "markdown",
   "id": "cc639776",
   "metadata": {},
   "source": [
    "a. Loop over multiple lists"
   ]
  },
  {
   "cell_type": "code",
   "execution_count": null,
   "id": "814f2967",
   "metadata": {},
   "outputs": [],
   "source": [
    "# house list of lists\n",
    "house = [[\"hallway\", 11.25], \n",
    "         [\"kitchen\", 18.0], \n",
    "         [\"living room\", 20.0], \n",
    "         [\"bedroom\", 10.75], \n",
    "         [\"bathroom\", 9.50]]\n",
    "         \n",
    "# Build a for loop from scratch\n",
    "for i in house:\n",
    "    room_name = i[0]\n",
    "    room_area = i[1]\n",
    "    print(\"the \" + room_name + \" is \" + str(room_area) + \" sqm\")"
   ]
  },
  {
   "cell_type": "markdown",
   "id": "1529d731",
   "metadata": {},
   "source": [
    "b. loop over dict"
   ]
  },
  {
   "cell_type": "code",
   "execution_count": null,
   "id": "f4ecd2a0",
   "metadata": {},
   "outputs": [],
   "source": [
    "# Definition of dictionary\n",
    "europe = {'spain':'madrid', 'france':'paris', 'germany':'berlin',\n",
    "          'norway':'oslo', 'italy':'rome', 'poland':'warsaw', 'austria':'vienna' }\n",
    "          \n",
    "# Iterate over europe\n",
    "\n",
    "for k, v in europe.items():\n",
    "    print(\"the capital of \" + str(k) + \" is \" + str(v))"
   ]
  },
  {
   "cell_type": "markdown",
   "id": "1b86dfbc",
   "metadata": {},
   "source": [
    "c. Loop over numpy array\n",
    " - 1D array and\n",
    " - 2D array"
   ]
  },
  {
   "cell_type": "code",
   "execution_count": null,
   "id": "20df9ac3",
   "metadata": {},
   "outputs": [],
   "source": [
    "# Import numpy as np\n",
    "import numpy as np\n",
    "\n",
    "# For loop over np_height\n",
    "for i in np_height:\n",
    "    print(str(i) + \" inches\") # This is for 1D array\n",
    "\n",
    "# For loop over np_baseball\n",
    "for i in np.nditer(np_baseball):# This is for 2D array | we use np.nditer() to iterate over 2D array\n",
    "    print(i) "
   ]
  },
  {
   "cell_type": "markdown",
   "id": "b8ee658a",
   "metadata": {},
   "source": [
    "d. ***Loop over a DataFrame*** -> we use iterrows()\n",
    "\n",
    "\n",
    " - DataFrame.iterrows() yields pairs: (index_label, row_series)."
   ]
  },
  {
   "cell_type": "code",
   "execution_count": null,
   "id": "4f001cf4",
   "metadata": {},
   "outputs": [],
   "source": [
    "# Import cars data\n",
    "import pandas as pd\n",
    "cars = pd.read_csv('cars.csv', index_col = 0)\n",
    "print(cars)\n",
    "# Iterate over rows of cars\n",
    "\n",
    "for label, row in cars.iterrows():\n",
    "    print(label)\n",
    "    print(row)"
   ]
  },
  {
   "cell_type": "markdown",
   "id": "fd36b23e",
   "metadata": {},
   "source": [
    "Use a for loop to add a new column, named COUNTRY, that contains a uppercase version of the country names in the \"country\" column. You can use the string method upper() for this."
   ]
  },
  {
   "cell_type": "code",
   "execution_count": null,
   "id": "6b61b1ae",
   "metadata": {},
   "outputs": [],
   "source": [
    "# Import cars data\n",
    "import pandas as pd\n",
    "cars = pd.read_csv('cars.csv', index_col = 0)\n",
    "\n",
    "# Code for loop that adds COUNTRY column\n",
    "for lab, row in car.itterows():\n",
    "    cars.loc[lab, \"COUNTRY\"] = row[\"country\"].upper\n",
    "\n",
    "\n",
    "# Print cars\n",
    "print(cars)"
   ]
  },
  {
   "cell_type": "markdown",
   "id": "3f3ab916",
   "metadata": {},
   "source": [
    "Vectorize operators for above with simple code below"
   ]
  },
  {
   "cell_type": "code",
   "execution_count": null,
   "id": "3cb5aa94",
   "metadata": {},
   "outputs": [],
   "source": [
    "cars[\"COUNTRY\"] = cars[\"country\"].str.upper()"
   ]
  },
  {
   "cell_type": "code",
   "execution_count": null,
   "id": "1dfd005e",
   "metadata": {},
   "outputs": [],
   "source": []
  },
  {
   "cell_type": "code",
   "execution_count": null,
   "id": "d2b779e7",
   "metadata": {},
   "outputs": [],
   "source": []
  },
  {
   "cell_type": "markdown",
   "id": "799688be",
   "metadata": {},
   "source": [
    "```\n",
    "What enumerate() does\n",
    "\n",
    "Signature: enumerate(iterable, start=0) -> It returns an iterator that yields pairs (index, value) for each item in the iterable.\n",
    "\n",
    "By default, indexing starts at 0\n",
    "\n",
    "```"
   ]
  },
  {
   "cell_type": "code",
   "execution_count": null,
   "id": "db91920a",
   "metadata": {},
   "outputs": [],
   "source": [
    "areas = [11.25, 18.0, 20.0, 10.75, 9.50]\n",
    "\n",
    "for index, a in enumerate(areas, start=1):\n",
    "    print(\"room \" + str(index) + \": \" + str(a))\n"
   ]
  },
  {
   "cell_type": "markdown",
   "id": "13f66a71",
   "metadata": {},
   "source": []
  },
  {
   "cell_type": "code",
   "execution_count": null,
   "id": "de0b739c",
   "metadata": {},
   "outputs": [],
   "source": []
  },
  {
   "cell_type": "code",
   "execution_count": null,
   "id": "f38eef7c",
   "metadata": {},
   "outputs": [],
   "source": []
  },
  {
   "cell_type": "code",
   "execution_count": null,
   "id": "95ebc827",
   "metadata": {},
   "outputs": [],
   "source": []
  },
  {
   "cell_type": "markdown",
   "id": "708aa1dd",
   "metadata": {},
   "source": [
    "## 3. Data Manipulation with Pandas"
   ]
  },
  {
   "cell_type": "markdown",
   "id": "b1f3ae7b",
   "metadata": {},
   "source": [
    "https://app.datacamp.com/learn/courses/data-manipulation-with-pandas"
   ]
  },
  {
   "cell_type": "code",
   "execution_count": null,
   "id": "aa32d759",
   "metadata": {},
   "outputs": [],
   "source": []
  },
  {
   "cell_type": "code",
   "execution_count": null,
   "id": "2a68bd32",
   "metadata": {},
   "outputs": [],
   "source": []
  },
  {
   "cell_type": "markdown",
   "id": "2b31dc77",
   "metadata": {},
   "source": [
    "## Chapter 4 - Joining"
   ]
  },
  {
   "cell_type": "markdown",
   "id": "7d0ea610",
   "metadata": {},
   "source": [
    "#### d. Merging Ordered and Time-Series Data"
   ]
  },
  {
   "cell_type": "code",
   "execution_count": null,
   "id": "0ec442ae",
   "metadata": {},
   "outputs": [],
   "source": []
  },
  {
   "cell_type": "code",
   "execution_count": null,
   "id": "33b709f6",
   "metadata": {},
   "outputs": [],
   "source": []
  },
  {
   "cell_type": "code",
   "execution_count": null,
   "id": "4d5df64c",
   "metadata": {},
   "outputs": [],
   "source": []
  },
  {
   "cell_type": "code",
   "execution_count": null,
   "id": "5901b0f9",
   "metadata": {},
   "outputs": [],
   "source": []
  },
  {
   "cell_type": "code",
   "execution_count": null,
   "id": "73175ba0",
   "metadata": {},
   "outputs": [],
   "source": []
  },
  {
   "cell_type": "code",
   "execution_count": null,
   "id": "bbc17ce5",
   "metadata": {},
   "outputs": [],
   "source": []
  },
  {
   "cell_type": "code",
   "execution_count": null,
   "id": "30ebd651",
   "metadata": {},
   "outputs": [],
   "source": []
  }
 ],
 "metadata": {
  "kernelspec": {
   "display_name": "Python 3",
   "language": "python",
   "name": "python3"
  },
  "language_info": {
   "codemirror_mode": {
    "name": "ipython",
    "version": 3
   },
   "file_extension": ".py",
   "mimetype": "text/x-python",
   "name": "python",
   "nbconvert_exporter": "python",
   "pygments_lexer": "ipython3",
   "version": "3.11.9"
  }
 },
 "nbformat": 4,
 "nbformat_minor": 5
}
