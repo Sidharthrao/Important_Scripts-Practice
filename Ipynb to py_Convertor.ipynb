{
 "cells": [
  {
   "cell_type": "markdown",
   "metadata": {},
   "source": [
    "### 0. Installing packages in terminal"
   ]
  },
  {
   "cell_type": "code",
   "execution_count": null,
   "metadata": {},
   "outputs": [],
   "source": [
    "C:\\Users\\psidhart\\AppData\\Local\\Programs\\Python\\Python312\\python.exe -m pip install plotly   "
   ]
  },
  {
   "cell_type": "markdown",
   "metadata": {},
   "source": []
  },
  {
   "cell_type": "markdown",
   "metadata": {},
   "source": [
    "### 1. Converting .ipynb file to .py file"
   ]
  },
  {
   "cell_type": "code",
   "execution_count": 4,
   "metadata": {},
   "outputs": [],
   "source": [
    "from nbconvert import PythonExporter\n",
    "import nbformat\n",
    "\n",
    "# Load the notebook\n",
    "with open(r'C:\\2. VS Code - Repositories\\IC_Automation\\0. Ver2_IC Automation - Compliance - 834.ipynb') as f:\n",
    "    notebook = nbformat.read(f, as_version=4)\n",
    "\n",
    "# Convert to Python script\n",
    "python_exporter = PythonExporter()\n",
    "body, _ = python_exporter.from_notebook_node(notebook)\n",
    "\n",
    "# Save to .py file\n",
    "with open(r'C:\\2. VS Code - Repositories\\0. Exe converter assist\\1. Output For exe file Generation\\Ver1_IC Automation - Compliance - 834.py', 'w') as f:\n",
    "    f.write(body)\n"
   ]
  },
  {
   "cell_type": "markdown",
   "metadata": {},
   "source": [
    "### 2. Pyinstaller - CMD - assisit converting .py file to exe file"
   ]
  },
  {
   "cell_type": "markdown",
   "metadata": {},
   "source": [
    "#### Note : Below code to be used in terminal"
   ]
  },
  {
   "cell_type": "code",
   "execution_count": null,
   "metadata": {},
   "outputs": [],
   "source": [
    "# work with the terminal\n",
    "cd \"C:\\2. VS Code - Repositories\\0. Exe converter assist\\1. Output For exe file Generation\"\n",
    "pyinstaller --onefile --console \"Ver1_IC Automation - Compliance - 834.py\"\n",
    "cd dist"
   ]
  },
  {
   "cell_type": "markdown",
   "metadata": {},
   "source": [
    "### 3. Compare between two .py file"
   ]
  },
  {
   "cell_type": "markdown",
   "metadata": {},
   "source": [
    "#### Note : Below code to be used in terminal"
   ]
  },
  {
   "cell_type": "code",
   "execution_count": null,
   "metadata": {},
   "outputs": [],
   "source": [
    "sudo apt install meld"
   ]
  },
  {
   "cell_type": "code",
   "execution_count": 5,
   "metadata": {},
   "outputs": [
    {
     "ename": "SyntaxError",
     "evalue": "invalid decimal literal (1247069832.py, line 2)",
     "output_type": "error",
     "traceback": [
      "\u001b[1;36m  Cell \u001b[1;32mIn[5], line 2\u001b[1;36m\u001b[0m\n\u001b[1;33m    diff Ver1_IC Automation - Compliance - 834.py Ver2_IC Automation - Compliance - 834.py\u001b[0m\n\u001b[1;37m                                              ^\u001b[0m\n\u001b[1;31mSyntaxError\u001b[0m\u001b[1;31m:\u001b[0m invalid decimal literal\n"
     ]
    }
   ],
   "source": [
    "cd \"C:\\2. VS Code - Repositories\\0. Exe converter assist\\Output files\"\n",
    "diff Ver1_IC Automation - Compliance - 834.py Ver2_IC Automation - Compliance - 834.py\n",
    "#meld notebook1.py notebook2.py"
   ]
  },
  {
   "cell_type": "code",
   "execution_count": null,
   "metadata": {},
   "outputs": [],
   "source": []
  }
 ],
 "metadata": {
  "kernelspec": {
   "display_name": "Python 3",
   "language": "python",
   "name": "python3"
  },
  "language_info": {
   "codemirror_mode": {
    "name": "ipython",
    "version": 3
   },
   "file_extension": ".py",
   "mimetype": "text/x-python",
   "name": "python",
   "nbconvert_exporter": "python",
   "pygments_lexer": "ipython3",
   "version": "3.12.3"
  }
 },
 "nbformat": 4,
 "nbformat_minor": 2
}
