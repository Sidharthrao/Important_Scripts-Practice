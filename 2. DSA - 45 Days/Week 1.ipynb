{
 "cells": [
  {
   "cell_type": "markdown",
   "id": "bdc35724",
   "metadata": {},
   "source": []
  },
  {
   "cell_type": "markdown",
   "id": "9888f02e",
   "metadata": {},
   "source": [
    "<img src=\"/Users/sidharthrao/Documents/Documents - Sidharth’s MacBook Pro/GitHub/Important_Scripts-Practice/2. DSA - 45 Days/Pics/2sum - BruitForce.png\" width=\"500\" height=\"300\" alt=\"Description\">"
   ]
  },
  {
   "cell_type": "code",
   "execution_count": null,
   "id": "c43bdd97",
   "metadata": {},
   "outputs": [],
   "source": []
  },
  {
   "cell_type": "code",
   "execution_count": null,
   "id": "55052d18",
   "metadata": {},
   "outputs": [],
   "source": []
  },
  {
   "cell_type": "code",
   "execution_count": null,
   "id": "d7e042b7",
   "metadata": {},
   "outputs": [],
   "source": []
  },
  {
   "cell_type": "code",
   "execution_count": null,
   "id": "72bf4d82",
   "metadata": {},
   "outputs": [],
   "source": []
  },
  {
   "cell_type": "code",
   "execution_count": null,
   "id": "d14cf98f",
   "metadata": {},
   "outputs": [],
   "source": []
  },
  {
   "cell_type": "code",
   "execution_count": null,
   "id": "047d05a8",
   "metadata": {},
   "outputs": [],
   "source": []
  },
  {
   "cell_type": "code",
   "execution_count": null,
   "id": "bb989ae4",
   "metadata": {},
   "outputs": [],
   "source": []
  }
 ],
 "metadata": {
  "kernelspec": {
   "display_name": ".venv_GlobalEnvironment",
   "language": "python",
   "name": "python3"
  },
  "language_info": {
   "name": "python",
   "version": "3.11.12"
  }
 },
 "nbformat": 4,
 "nbformat_minor": 5
}
