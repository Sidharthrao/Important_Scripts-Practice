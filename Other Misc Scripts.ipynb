{
 "cells": [
  {
   "cell_type": "code",
   "execution_count": 2,
   "metadata": {},
   "outputs": [
    {
     "name": "stderr",
     "output_type": "stream",
     "text": [
      "C:\\Users\\psidhart\\AppData\\Local\\Temp\\ipykernel_26240\\3855145565.py:14: DtypeWarning: Columns (27) have mixed types. Specify dtype option on import or set low_memory=False.\n",
      "  excel_files = [pd.read_csv(os.path.join(source_path, filename))#, sheet_name=\"1\")\n",
      "C:\\Users\\psidhart\\AppData\\Local\\Temp\\ipykernel_26240\\3855145565.py:14: DtypeWarning: Columns (27) have mixed types. Specify dtype option on import or set low_memory=False.\n",
      "  excel_files = [pd.read_csv(os.path.join(source_path, filename))#, sheet_name=\"1\")\n",
      "C:\\Users\\psidhart\\AppData\\Local\\Temp\\ipykernel_26240\\3855145565.py:14: DtypeWarning: Columns (27) have mixed types. Specify dtype option on import or set low_memory=False.\n",
      "  excel_files = [pd.read_csv(os.path.join(source_path, filename))#, sheet_name=\"1\")\n",
      "C:\\Users\\psidhart\\AppData\\Local\\Temp\\ipykernel_26240\\3855145565.py:14: DtypeWarning: Columns (27) have mixed types. Specify dtype option on import or set low_memory=False.\n",
      "  excel_files = [pd.read_csv(os.path.join(source_path, filename))#, sheet_name=\"1\")\n",
      "C:\\Users\\psidhart\\AppData\\Local\\Temp\\ipykernel_26240\\3855145565.py:14: DtypeWarning: Columns (27) have mixed types. Specify dtype option on import or set low_memory=False.\n",
      "  excel_files = [pd.read_csv(os.path.join(source_path, filename))#, sheet_name=\"1\")\n",
      "C:\\Users\\psidhart\\AppData\\Local\\Temp\\ipykernel_26240\\3855145565.py:14: DtypeWarning: Columns (27) have mixed types. Specify dtype option on import or set low_memory=False.\n",
      "  excel_files = [pd.read_csv(os.path.join(source_path, filename))#, sheet_name=\"1\")\n",
      "C:\\Users\\psidhart\\AppData\\Local\\Temp\\ipykernel_26240\\3855145565.py:14: DtypeWarning: Columns (27) have mixed types. Specify dtype option on import or set low_memory=False.\n",
      "  excel_files = [pd.read_csv(os.path.join(source_path, filename))#, sheet_name=\"1\")\n",
      "C:\\Users\\psidhart\\AppData\\Local\\Temp\\ipykernel_26240\\3855145565.py:14: DtypeWarning: Columns (27) have mixed types. Specify dtype option on import or set low_memory=False.\n",
      "  excel_files = [pd.read_csv(os.path.join(source_path, filename))#, sheet_name=\"1\")\n",
      "C:\\Users\\psidhart\\AppData\\Local\\Temp\\ipykernel_26240\\3855145565.py:14: DtypeWarning: Columns (27) have mixed types. Specify dtype option on import or set low_memory=False.\n",
      "  excel_files = [pd.read_csv(os.path.join(source_path, filename))#, sheet_name=\"1\")\n"
     ]
    }
   ],
   "source": [
    "import os\n",
    "import pandas as pd\n",
    "\n",
    "# Define your source and destination paths\n",
    "source_path = r'C:\\Users\\psidhart\\OneDrive - Intel Corporation\\Desktop\\00. Finalyzer - Data Ingestion Testing\\1. SFTP transfer\\2024 - 25\\2. 834\\0. Cummulative Months - Verification Finalyzer'\n",
    "destination_file = r'C:\\Users\\psidhart\\OneDrive - Intel Corporation\\Desktop\\00. Finalyzer - Data Ingestion Testing\\1. SFTP transfer\\2024 - 25\\2. 834\\0. Cummulative Months - Verification Finalyzer\\0. Consolidated\\Consolidated_File.csv'\n",
    "\n",
    "# Check if the destination directory exists, if not, create it\n",
    "destination_dir = os.path.dirname(destination_file)\n",
    "if not os.path.exists(destination_dir):\n",
    "    os.makedirs(destination_dir)\n",
    "\n",
    "# Use a list comprehension to read all Excel files\n",
    "excel_files = [pd.read_csv(os.path.join(source_path, filename))#, sheet_name=\"1\") \n",
    "               for filename in os.listdir(source_path) \n",
    "               if filename.endswith('.csv')]\n",
    "\n",
    "# Concatenate the DataFrames into one\n",
    "combined_data = pd.concat(excel_files, ignore_index=True)\n",
    "\n",
    "# Filter the data for Company Code 831\n",
    "#combined_data_831 = combined_data[combined_data[\"Company Code\"] == 831]\n",
    "\n",
    "# Save the combined data to a new Excel file\n",
    "combined_data.to_csv(destination_file, index=False)\n"
   ]
  },
  {
   "cell_type": "code",
   "execution_count": null,
   "metadata": {},
   "outputs": [],
   "source": []
  }
 ],
 "metadata": {
  "kernelspec": {
   "display_name": "Python 3",
   "language": "python",
   "name": "python3"
  },
  "language_info": {
   "codemirror_mode": {
    "name": "ipython",
    "version": 3
   },
   "file_extension": ".py",
   "mimetype": "text/x-python",
   "name": "python",
   "nbconvert_exporter": "python",
   "pygments_lexer": "ipython3",
   "version": "3.12.3"
  }
 },
 "nbformat": 4,
 "nbformat_minor": 2
}
